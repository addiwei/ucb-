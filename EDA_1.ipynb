{
 "cells": [
  {
   "cell_type": "code",
   "execution_count": 1,
   "metadata": {},
   "outputs": [],
   "source": [
    "import pandas as pd\n",
    "import numpy as np\n",
    "from sklearn.feature_extraction.text import CountVectorizer\n",
    "from sklearn.feature_extraction.text import TfidfVectorizer\n",
    "import re "
   ]
  },
  {
   "cell_type": "code",
   "execution_count": 2,
   "metadata": {},
   "outputs": [],
   "source": [
    "#Combines structured and unstrucutred data using BoW CountVectorizer \n",
    "\n",
    "def process_data(x, y):\n",
    "    # Process Words\n",
    "    x_words = x['first_name'].map(str) + ' ' + x['middle_name'].map(str)  + ' ' + x['lastname'].map(str) + ' ' + x['topics'].map(str)\n",
    "    y_words = y['first_name'].map(str) + ' ' + y['middle_name'].map(str)  + ' ' + y['lastname'].map(str) + ' ' + y['topics'].map(str)\n",
    "    \n",
    "    #Total corpus is combining x and y\n",
    "    total_BOW = pd.concat([x_words, y_words], sort=False)\n",
    "    \n",
    "    vectorizer = TfidfVectorizer()\n",
    "    total_vec = vectorizer.fit(total_BOW)\n",
    "    X = total_vec.transform(x_words).todense()\n",
    "    X_words = pd.DataFrame(X)\n",
    "\n",
    "    Y = total_vec.transform(y_words).todense()\n",
    "    Y_words = pd.DataFrame(Y)\n",
    "    \n",
    "    #Process numbers\n",
    "    x_num = pd.DataFrame()\n",
    "    y_num = pd.DataFrame()\n",
    "    \n",
    "\n",
    "    x_num['cities'] =  [re.findall(\"(\\d+)\",i) for i in x['cities'].map(str)]\n",
    "    x_num['countries'] =  [re.findall(\"(\\d+)\",i) for i in x['countries'].map(str)]\n",
    "    x_num = x_num.fillna(0, inplace=True)\n",
    "\n",
    "    y_num['cities'] =  [re.findall(\"(\\d+)\",x) for x in y['cities'].map(str)]\n",
    "    y_num['countries'] =  [re.findall(\"(\\d+)\",x) for x in y['countries'].map(str)]\n",
    "    y_num = y_num.fillna(0, inplace=True)\n",
    "    \n",
    "    return X_words.append(x_num), Y_words.append(y_num)\n",
    "   # final_Y = pd.DataFrame(Y_words.append(y_num))\n",
    "   # return final_X, final_Y"
   ]
  },
  {
   "cell_type": "code",
   "execution_count": 3,
   "metadata": {},
   "outputs": [],
   "source": [
    "#returns euclidean distance with weighted feature if orcid are the same\n",
    "\n",
    "def calc_euclid(x, y, final_X, final_Y, truth_table):\n",
    "    distance = abs(np.linalg.norm(final_X.iloc[x] - final_Y.iloc[y]))\n",
    "    if x in truth_table.id_x.tolist() and y == temp_truth_df.id_y[temp_truth_df[temp_truth_df['id_x']==x].index.values.astype(int)[0]]:\n",
    "        distance = distance - 10000\n",
    "    return distance"
   ]
  },
  {
   "cell_type": "code",
   "execution_count": 4,
   "metadata": {},
   "outputs": [],
   "source": [
    "# THis function creates truth table and includes euclid distance calculated\n",
    "\n",
    "def create_truth_table(a, b, final_X, final_Y):\n",
    "    dfa = a.drop_duplicates(subset=['orcid'])\n",
    "    dfb = b.drop_duplicates(subset=['orcid'])\n",
    "    dfa = dfa[np.isfinite(dfa['orcid'])]\n",
    "    dfb = dfb[np.isfinite(dfb['orcid'])]\n",
    "    new_df = pd.merge(dfa, dfb, how='inner', on='orcid')\n",
    "    #new_df.drop(new_df.index[0], inplace=True)\n",
    "    truth_df = new_df[['id_x','id_y']]\n",
    "    \n",
    "    #add this code in later to check euclid distance of truth table\n",
    "    #truth_df['euclid'] = [calc_euclid(truth_df.id_x.iloc[i], truth_df.id_y.iloc[i], final_X, final_Y) for i in range(len(truth_df))]\n",
    "    return truth_df"
   ]
  },
  {
   "cell_type": "code",
   "execution_count": 5,
   "metadata": {},
   "outputs": [],
   "source": [
    "# Predict will run all of the functions in order and write a file to output\n",
    "#predict(file_a, file_b):  \n",
    "authors_df = pd.read_csv('authors_1019.csv', encoding='iso-8859-1')\n",
    "investigators_df = pd.read_csv('investigators_837.csv', encoding='iso-8859-1')\n",
    "\n",
    "final_X, final_Y = process_data(authors_df,investigators_df)\n",
    "\n",
    "truth_df = create_truth_table(authors_df, investigators_df, final_X, final_Y)\n",
    "\n",
    "results_df = pd.DataFrame()\n",
    "results_df['author'] = authors_df.id - 1\n",
    "#results_df.index = np.arange(0, len(results_df))\n",
    "\n",
    "#Repair Index\n",
    "# final_X.index += 1 \n",
    "# final_Y.index += 1\n",
    "# results_df.index += 1\n",
    "# truth_df.index += 1\n",
    "#export_csv = results_df.to_csv (r'ucb_output.csv', index = None, header=True)\n"
   ]
  },
  {
   "cell_type": "code",
   "execution_count": 6,
   "metadata": {},
   "outputs": [
    {
     "data": {
      "text/html": [
       "<div>\n",
       "<style scoped>\n",
       "    .dataframe tbody tr th:only-of-type {\n",
       "        vertical-align: middle;\n",
       "    }\n",
       "\n",
       "    .dataframe tbody tr th {\n",
       "        vertical-align: top;\n",
       "    }\n",
       "\n",
       "    .dataframe thead th {\n",
       "        text-align: right;\n",
       "    }\n",
       "</style>\n",
       "<table border=\"1\" class=\"dataframe\">\n",
       "  <thead>\n",
       "    <tr style=\"text-align: right;\">\n",
       "      <th></th>\n",
       "      <th>author</th>\n",
       "    </tr>\n",
       "  </thead>\n",
       "  <tbody>\n",
       "    <tr>\n",
       "      <th>0</th>\n",
       "      <td>0</td>\n",
       "    </tr>\n",
       "    <tr>\n",
       "      <th>1</th>\n",
       "      <td>1</td>\n",
       "    </tr>\n",
       "    <tr>\n",
       "      <th>2</th>\n",
       "      <td>2</td>\n",
       "    </tr>\n",
       "    <tr>\n",
       "      <th>3</th>\n",
       "      <td>3</td>\n",
       "    </tr>\n",
       "    <tr>\n",
       "      <th>4</th>\n",
       "      <td>4</td>\n",
       "    </tr>\n",
       "  </tbody>\n",
       "</table>\n",
       "</div>"
      ],
      "text/plain": [
       "   author\n",
       "0       0\n",
       "1       1\n",
       "2       2\n",
       "3       3\n",
       "4       4"
      ]
     },
     "execution_count": 6,
     "metadata": {},
     "output_type": "execute_result"
    }
   ],
   "source": [
    "results_df.head()"
   ]
  },
  {
   "cell_type": "code",
   "execution_count": 7,
   "metadata": {},
   "outputs": [],
   "source": [
    "# Create temporary truth table with correct x indexing\n",
    "temp_truth_df = pd.DataFrame()\n",
    "temp_truth_df['id_x'] = truth_df['id_x'] - 1 \n",
    "temp_truth_df['id_y'] = truth_df['id_y'] \n"
   ]
  },
  {
   "cell_type": "code",
   "execution_count": 8,
   "metadata": {},
   "outputs": [
    {
     "data": {
      "text/html": [
       "<div>\n",
       "<style scoped>\n",
       "    .dataframe tbody tr th:only-of-type {\n",
       "        vertical-align: middle;\n",
       "    }\n",
       "\n",
       "    .dataframe tbody tr th {\n",
       "        vertical-align: top;\n",
       "    }\n",
       "\n",
       "    .dataframe thead th {\n",
       "        text-align: right;\n",
       "    }\n",
       "</style>\n",
       "<table border=\"1\" class=\"dataframe\">\n",
       "  <thead>\n",
       "    <tr style=\"text-align: right;\">\n",
       "      <th></th>\n",
       "      <th>id_x</th>\n",
       "      <th>id_y</th>\n",
       "    </tr>\n",
       "  </thead>\n",
       "  <tbody>\n",
       "    <tr>\n",
       "      <th>0</th>\n",
       "      <td>6</td>\n",
       "      <td>11</td>\n",
       "    </tr>\n",
       "    <tr>\n",
       "      <th>1</th>\n",
       "      <td>13</td>\n",
       "      <td>14</td>\n",
       "    </tr>\n",
       "    <tr>\n",
       "      <th>2</th>\n",
       "      <td>18</td>\n",
       "      <td>17</td>\n",
       "    </tr>\n",
       "    <tr>\n",
       "      <th>3</th>\n",
       "      <td>19</td>\n",
       "      <td>19</td>\n",
       "    </tr>\n",
       "    <tr>\n",
       "      <th>4</th>\n",
       "      <td>33</td>\n",
       "      <td>30</td>\n",
       "    </tr>\n",
       "  </tbody>\n",
       "</table>\n",
       "</div>"
      ],
      "text/plain": [
       "   id_x  id_y\n",
       "0     6    11\n",
       "1    13    14\n",
       "2    18    17\n",
       "3    19    19\n",
       "4    33    30"
      ]
     },
     "execution_count": 8,
     "metadata": {},
     "output_type": "execute_result"
    }
   ],
   "source": [
    "truth_df.head()"
   ]
  },
  {
   "cell_type": "code",
   "execution_count": 9,
   "metadata": {},
   "outputs": [
    {
     "name": "stdout",
     "output_type": "stream",
     "text": [
      "1.39968985732117\n"
     ]
    }
   ],
   "source": [
    "print(calc_euclid(0, 1, final_X, final_Y, truth_df))"
   ]
  },
  {
   "cell_type": "code",
   "execution_count": 10,
   "metadata": {
    "scrolled": true
   },
   "outputs": [],
   "source": [
    "result_list = []\n",
    "euclid_list = []\n",
    "\n",
    "for i in range(len(final_X)):\n",
    "    min_index = 0\n",
    "    min_euclid = 1000\n",
    "    for j in range(len(final_Y)):\n",
    "        x = calc_euclid(i, j, final_X, final_Y, temp_truth_df)\n",
    "        if x < min_euclid:\n",
    "            min_euclid = x\n",
    "            min_index = j\n",
    "            #print('i = ' + str(i) + ' j = ' + str(j) + ' min_euclid = ' + str(min_euclid) + ' min_index = ' + str(min_index))\n",
    "    result_list.append(min_index)\n",
    "        \n",
    "  #  euclid_list.append(min_euclid)"
   ]
  },
  {
   "cell_type": "code",
   "execution_count": 11,
   "metadata": {},
   "outputs": [],
   "source": [
    "results_df['investigator'] = result_list\n"
   ]
  },
  {
   "cell_type": "code",
   "execution_count": 12,
   "metadata": {},
   "outputs": [
    {
     "data": {
      "text/html": [
       "<div>\n",
       "<style scoped>\n",
       "    .dataframe tbody tr th:only-of-type {\n",
       "        vertical-align: middle;\n",
       "    }\n",
       "\n",
       "    .dataframe tbody tr th {\n",
       "        vertical-align: top;\n",
       "    }\n",
       "\n",
       "    .dataframe thead th {\n",
       "        text-align: right;\n",
       "    }\n",
       "</style>\n",
       "<table border=\"1\" class=\"dataframe\">\n",
       "  <thead>\n",
       "    <tr style=\"text-align: right;\">\n",
       "      <th></th>\n",
       "      <th>author</th>\n",
       "      <th>investigator</th>\n",
       "    </tr>\n",
       "  </thead>\n",
       "  <tbody>\n",
       "    <tr>\n",
       "      <th>0</th>\n",
       "      <td>1</td>\n",
       "      <td>460</td>\n",
       "    </tr>\n",
       "    <tr>\n",
       "      <th>1</th>\n",
       "      <td>2</td>\n",
       "      <td>704</td>\n",
       "    </tr>\n",
       "    <tr>\n",
       "      <th>2</th>\n",
       "      <td>3</td>\n",
       "      <td>570</td>\n",
       "    </tr>\n",
       "    <tr>\n",
       "      <th>3</th>\n",
       "      <td>4</td>\n",
       "      <td>234</td>\n",
       "    </tr>\n",
       "    <tr>\n",
       "      <th>4</th>\n",
       "      <td>5</td>\n",
       "      <td>360</td>\n",
       "    </tr>\n",
       "    <tr>\n",
       "      <th>5</th>\n",
       "      <td>6</td>\n",
       "      <td>11</td>\n",
       "    </tr>\n",
       "    <tr>\n",
       "      <th>6</th>\n",
       "      <td>7</td>\n",
       "      <td>467</td>\n",
       "    </tr>\n",
       "    <tr>\n",
       "      <th>7</th>\n",
       "      <td>8</td>\n",
       "      <td>245</td>\n",
       "    </tr>\n",
       "    <tr>\n",
       "      <th>8</th>\n",
       "      <td>9</td>\n",
       "      <td>386</td>\n",
       "    </tr>\n",
       "    <tr>\n",
       "      <th>9</th>\n",
       "      <td>10</td>\n",
       "      <td>262</td>\n",
       "    </tr>\n",
       "    <tr>\n",
       "      <th>10</th>\n",
       "      <td>11</td>\n",
       "      <td>159</td>\n",
       "    </tr>\n",
       "    <tr>\n",
       "      <th>11</th>\n",
       "      <td>12</td>\n",
       "      <td>12</td>\n",
       "    </tr>\n",
       "    <tr>\n",
       "      <th>12</th>\n",
       "      <td>13</td>\n",
       "      <td>14</td>\n",
       "    </tr>\n",
       "    <tr>\n",
       "      <th>13</th>\n",
       "      <td>14</td>\n",
       "      <td>14</td>\n",
       "    </tr>\n",
       "    <tr>\n",
       "      <th>14</th>\n",
       "      <td>15</td>\n",
       "      <td>347</td>\n",
       "    </tr>\n",
       "    <tr>\n",
       "      <th>15</th>\n",
       "      <td>16</td>\n",
       "      <td>578</td>\n",
       "    </tr>\n",
       "    <tr>\n",
       "      <th>16</th>\n",
       "      <td>17</td>\n",
       "      <td>15</td>\n",
       "    </tr>\n",
       "    <tr>\n",
       "      <th>17</th>\n",
       "      <td>18</td>\n",
       "      <td>17</td>\n",
       "    </tr>\n",
       "    <tr>\n",
       "      <th>18</th>\n",
       "      <td>19</td>\n",
       "      <td>19</td>\n",
       "    </tr>\n",
       "    <tr>\n",
       "      <th>19</th>\n",
       "      <td>20</td>\n",
       "      <td>91</td>\n",
       "    </tr>\n",
       "  </tbody>\n",
       "</table>\n",
       "</div>"
      ],
      "text/plain": [
       "    author  investigator\n",
       "0        1           460\n",
       "1        2           704\n",
       "2        3           570\n",
       "3        4           234\n",
       "4        5           360\n",
       "5        6            11\n",
       "6        7           467\n",
       "7        8           245\n",
       "8        9           386\n",
       "9       10           262\n",
       "10      11           159\n",
       "11      12            12\n",
       "12      13            14\n",
       "13      14            14\n",
       "14      15           347\n",
       "15      16           578\n",
       "16      17            15\n",
       "17      18            17\n",
       "18      19            19\n",
       "19      20            91"
      ]
     },
     "execution_count": 12,
     "metadata": {},
     "output_type": "execute_result"
    }
   ],
   "source": [
    "results_df.author += 1\n",
    "results_df.head(20)"
   ]
  },
  {
   "cell_type": "code",
   "execution_count": 13,
   "metadata": {
    "scrolled": true
   },
   "outputs": [
    {
     "name": "stdout",
     "output_type": "stream",
     "text": [
      "Accuracy on ground truth is 100.0%\n"
     ]
    }
   ],
   "source": [
    "#accuracy assesment on truth data\n",
    "score = 0\n",
    "incorrect_x = []\n",
    "incorrect_y = []\n",
    "results_inv = []\n",
    "\n",
    "for x in range(len(truth_df)):\n",
    "    index_y = 0\n",
    "    index_y = truth_df.iloc[x].id_x - 1\n",
    "    if truth_df.iloc[x].id_y == results_df.iloc[index_y].investigator:\n",
    "        score +=1\n",
    "    elif truth_df.iloc[x].id_y != results_df.iloc[index_y].investigator:\n",
    "        incorrect_x.append(truth_df.iloc[x].id_x)\n",
    "        incorrect_y.append(truth_df.iloc[x].id_y)\n",
    "        results_inv.append(results_df.iloc[index_y].investigator)\n",
    "\n",
    "print('Accuracy on ground truth is ' + str(score / len(truth_df)*100) + '%')"
   ]
  },
  {
   "cell_type": "code",
   "execution_count": 14,
   "metadata": {},
   "outputs": [
    {
     "data": {
      "text/html": [
       "<div>\n",
       "<style scoped>\n",
       "    .dataframe tbody tr th:only-of-type {\n",
       "        vertical-align: middle;\n",
       "    }\n",
       "\n",
       "    .dataframe tbody tr th {\n",
       "        vertical-align: top;\n",
       "    }\n",
       "\n",
       "    .dataframe thead th {\n",
       "        text-align: right;\n",
       "    }\n",
       "</style>\n",
       "<table border=\"1\" class=\"dataframe\">\n",
       "  <thead>\n",
       "    <tr style=\"text-align: right;\">\n",
       "      <th></th>\n",
       "      <th>true_author</th>\n",
       "      <th>true_investigator</th>\n",
       "      <th>incorrect_investigator</th>\n",
       "    </tr>\n",
       "  </thead>\n",
       "  <tbody>\n",
       "  </tbody>\n",
       "</table>\n",
       "</div>"
      ],
      "text/plain": [
       "Empty DataFrame\n",
       "Columns: [true_author, true_investigator, incorrect_investigator]\n",
       "Index: []"
      ]
     },
     "execution_count": 14,
     "metadata": {},
     "output_type": "execute_result"
    }
   ],
   "source": [
    "incorrect_df = pd.DataFrame([incorrect_x, incorrect_y, results_inv]).transpose()\n",
    "incorrect_df.columns = ['true_author','true_investigator', 'incorrect_investigator']\n",
    "incorrect_df.head()"
   ]
  },
  {
   "cell_type": "code",
   "execution_count": null,
   "metadata": {},
   "outputs": [],
   "source": []
  },
  {
   "cell_type": "code",
   "execution_count": null,
   "metadata": {},
   "outputs": [],
   "source": []
  },
  {
   "cell_type": "code",
   "execution_count": 15,
   "metadata": {},
   "outputs": [
    {
     "ename": "NameError",
     "evalue": "name 'predict' is not defined",
     "output_type": "error",
     "traceback": [
      "\u001b[1;31m---------------------------------------------------------------------------\u001b[0m",
      "\u001b[1;31mNameError\u001b[0m                                 Traceback (most recent call last)",
      "\u001b[1;32m<ipython-input-15-2b1cee79623a>\u001b[0m in \u001b[0;36m<module>\u001b[1;34m()\u001b[0m\n\u001b[1;32m----> 1\u001b[1;33m \u001b[0mpredict\u001b[0m\u001b[1;33m(\u001b[0m\u001b[1;34m'authors_1019.csv'\u001b[0m\u001b[1;33m,\u001b[0m\u001b[1;34m'investigators_837.csv'\u001b[0m\u001b[1;33m)\u001b[0m\u001b[1;33m\u001b[0m\u001b[0m\n\u001b[0m",
      "\u001b[1;31mNameError\u001b[0m: name 'predict' is not defined"
     ]
    }
   ],
   "source": [
    "predict('authors_1019.csv','investigators_837.csv')"
   ]
  }
 ],
 "metadata": {
  "kernelspec": {
   "display_name": "Python 3",
   "language": "python",
   "name": "python3"
  },
  "language_info": {
   "codemirror_mode": {
    "name": "ipython",
    "version": 3
   },
   "file_extension": ".py",
   "mimetype": "text/x-python",
   "name": "python",
   "nbconvert_exporter": "python",
   "pygments_lexer": "ipython3",
   "version": "3.6.5"
  }
 },
 "nbformat": 4,
 "nbformat_minor": 2
}
