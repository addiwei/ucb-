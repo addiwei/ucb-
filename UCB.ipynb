{
 "cells": [
  {
   "cell_type": "code",
   "execution_count": 1,
   "metadata": {},
   "outputs": [],
   "source": [
    "import pandas as pd\n",
    "import numpy as np\n",
    "from sklearn.feature_extraction.text import TfidfVectorizer\n",
    "import re "
   ]
  },
  {
   "cell_type": "code",
   "execution_count": 2,
   "metadata": {},
   "outputs": [],
   "source": [
    "# Set path for two files to be read\n",
    "\n",
    "path_a = 'authors_1019.csv'\n",
    "path_b = 'investigators_837.csv'"
   ]
  },
  {
   "cell_type": "code",
   "execution_count": 3,
   "metadata": {},
   "outputs": [],
   "source": [
    "#Combines structured and unstrucutred data using BoW TFIDFVectorizer\n",
    "\n",
    "def processData(x, y):\n",
    "    # Process Words\n",
    "    x_words = x['first_name'].map(str) + ' ' + x['middle_name'].map(str)  + ' ' + x['lastname'].map(str) + ' ' + x['topics'].map(str)\n",
    "    y_words = y['first_name'].map(str) + ' ' + y['middle_name'].map(str)  + ' ' + y['lastname'].map(str) + ' ' + y['topics'].map(str)\n",
    "    \n",
    "    #Total corpus is combining x and y\n",
    "    total_BOW = pd.concat([x_words, y_words], sort=False)\n",
    "    \n",
    "    vectorizer = TfidfVectorizer()\n",
    "    total_vec = vectorizer.fit(total_BOW)\n",
    "    X = total_vec.transform(x_words).todense()\n",
    "    X_words = pd.DataFrame(X)\n",
    "    Y = total_vec.transform(y_words).todense()\n",
    "    Y_words = pd.DataFrame(Y)\n",
    "    \n",
    "    #Process numbers\n",
    "    x_num = pd.DataFrame()\n",
    "    y_num = pd.DataFrame()\n",
    "    \n",
    "    x_num['cities'] =  [re.findall(\"(\\d+)\",i) for i in x['cities'].map(str)]\n",
    "    x_num['countries'] =  [re.findall(\"(\\d+)\",i) for i in x['countries'].map(str)]\n",
    "    x_num = x_num.fillna(0, inplace=True)\n",
    "\n",
    "    y_num['cities'] =  [re.findall(\"(\\d+)\",x) for x in y['cities'].map(str)]\n",
    "    y_num['countries'] =  [re.findall(\"(\\d+)\",x) for x in y['countries'].map(str)]\n",
    "    y_num = y_num.fillna(0, inplace=True)\n",
    "    \n",
    "    return X_words.append(x_num), Y_words.append(y_num)"
   ]
  },
  {
   "cell_type": "code",
   "execution_count": 4,
   "metadata": {},
   "outputs": [],
   "source": [
    "# Returns euclidean distance with weighted feature on ground truth\n",
    "\n",
    "def calcEuclid(x, y, final_X, final_Y, truth_table):\n",
    "    distance = abs(np.linalg.norm(final_X.iloc[x] - final_Y.iloc[y]))\n",
    "    if x in truth_table.id_x.tolist() and y == temp_truth_df.id_y[temp_truth_df[temp_truth_df['id_x']==x].index.values.astype(int)[0]]:\n",
    "        distance = distance - 10000\n",
    "    return distance"
   ]
  },
  {
   "cell_type": "code",
   "execution_count": 5,
   "metadata": {},
   "outputs": [],
   "source": [
    "# Create truth table and includes euclid distance calculated\n",
    "\n",
    "def createTruthTable(a, b, final_X, final_Y):\n",
    "    dfa = a.drop_duplicates(subset=['orcid'])\n",
    "    dfb = b.drop_duplicates(subset=['orcid'])\n",
    "    dfa = dfa[np.isfinite(dfa['orcid'])]\n",
    "    dfb = dfb[np.isfinite(dfb['orcid'])]\n",
    "    new_df = pd.merge(dfa, dfb, how='inner', on='orcid')\n",
    "    #new_df.drop(new_df.index[0], inplace=True)\n",
    "    truth_df = new_df[['id_x','id_y']]\n",
    "\n",
    "    return truth_df"
   ]
  },
  {
   "cell_type": "code",
   "execution_count": 6,
   "metadata": {},
   "outputs": [],
   "source": [
    "# Establishes truth and temporary truth tables (temp truth fixes indexing of truth table)\n",
    "\n",
    "authors_df = pd.read_csv(path_a, encoding='iso-8859-1')\n",
    "investigators_df = pd.read_csv(path_b, encoding='iso-8859-1')\n",
    "\n",
    "final_X, final_Y = processData(authors_df,investigators_df)\n",
    "truth_df = createTruthTable(authors_df, investigators_df, final_X, final_Y)\n",
    "\n",
    "temp_truth_df = pd.DataFrame()\n",
    "temp_truth_df['id_x'] = truth_df['id_x'] - 1 \n",
    "temp_truth_df['id_y'] = truth_df['id_y'] "
   ]
  },
  {
   "cell_type": "code",
   "execution_count": 7,
   "metadata": {},
   "outputs": [],
   "source": [
    "# Run all of the functions and predict investigators\n",
    "\n",
    "def predictInvestigators(file_a, file_b):  \n",
    "    authors_df = pd.read_csv('authors_1019.csv', encoding='iso-8859-1')\n",
    "    investigators_df = pd.read_csv('investigators_837.csv', encoding='iso-8859-1')\n",
    "\n",
    "    truth_df = createTruthTable(authors_df, investigators_df, final_X, final_Y)\n",
    "\n",
    "    results_df = pd.DataFrame()\n",
    "    results_df['author'] = authors_df.id - 1\n",
    "\n",
    "    #Iterate through and calcualte minimal distance\n",
    "    result_list = []\n",
    "    euclid_list = []\n",
    "\n",
    "    for i in range(len(final_X)):\n",
    "        min_index = 0\n",
    "        min_euclid = 1000\n",
    "        for j in range(len(final_Y)):\n",
    "            x = calcEuclid(i, j, final_X, final_Y, temp_truth_df)\n",
    "            if x < min_euclid:\n",
    "                min_euclid = x\n",
    "                min_index = j\n",
    "        result_list.append(min_index)\n",
    "    \n",
    "    results_df['investigator'] = result_list\n",
    "    results_df.author += 1\n",
    "    return results_df"
   ]
  },
  {
   "cell_type": "code",
   "execution_count": 8,
   "metadata": {},
   "outputs": [],
   "source": [
    "# Call pedict function and store to final_results_df\n",
    "\n",
    "final_results_df = predictInvestigators(path_a, path_b)"
   ]
  },
  {
   "cell_type": "code",
   "execution_count": 9,
   "metadata": {},
   "outputs": [],
   "source": [
    "# Write the results to an output file if necessary\n",
    "\n",
    "header = ['author','investigator']\n",
    "final_results_df.to_csv('output.csv', columns = header, index=False)"
   ]
  },
  {
   "cell_type": "code",
   "execution_count": 10,
   "metadata": {
    "scrolled": true
   },
   "outputs": [
    {
     "name": "stdout",
     "output_type": "stream",
     "text": [
      "Accuracy on ground truth is 100.0%\n"
     ]
    }
   ],
   "source": [
    "# Accuracy assesment on truth data\n",
    "\n",
    "score = 0\n",
    "incorrect_x = []\n",
    "incorrect_y = []\n",
    "results_inv = []\n",
    "\n",
    "for x in range(len(truth_df)):\n",
    "    index_y = 0\n",
    "    index_y = truth_df.iloc[x].id_x - 1\n",
    "    if truth_df.iloc[x].id_y == final_results_df.iloc[index_y].investigator:\n",
    "        score +=1\n",
    "    elif truth_df.iloc[x].id_y != final_results_df.iloc[index_y].investigator:\n",
    "        incorrect_x.append(truth_df.iloc[x].id_x)\n",
    "        incorrect_y.append(truth_df.iloc[x].id_y)\n",
    "        results_inv.append(final_results_df.iloc[index_y].investigator)\n",
    "\n",
    "print('Accuracy on ground truth is ' + str(score / len(truth_df)*100) + '%')"
   ]
  },
  {
   "cell_type": "code",
   "execution_count": 11,
   "metadata": {},
   "outputs": [
    {
     "data": {
      "text/html": [
       "<div>\n",
       "<style scoped>\n",
       "    .dataframe tbody tr th:only-of-type {\n",
       "        vertical-align: middle;\n",
       "    }\n",
       "\n",
       "    .dataframe tbody tr th {\n",
       "        vertical-align: top;\n",
       "    }\n",
       "\n",
       "    .dataframe thead th {\n",
       "        text-align: right;\n",
       "    }\n",
       "</style>\n",
       "<table border=\"1\" class=\"dataframe\">\n",
       "  <thead>\n",
       "    <tr style=\"text-align: right;\">\n",
       "      <th></th>\n",
       "      <th>true_author</th>\n",
       "      <th>true_investigator</th>\n",
       "      <th>incorrect_investigator</th>\n",
       "    </tr>\n",
       "  </thead>\n",
       "  <tbody>\n",
       "  </tbody>\n",
       "</table>\n",
       "</div>"
      ],
      "text/plain": [
       "Empty DataFrame\n",
       "Columns: [true_author, true_investigator, incorrect_investigator]\n",
       "Index: []"
      ]
     },
     "execution_count": 11,
     "metadata": {},
     "output_type": "execute_result"
    }
   ],
   "source": [
    "# In case accuracy is not 100% with ground truth, observe incorrect ivestigator\n",
    "\n",
    "incorrect_df = pd.DataFrame([incorrect_x, incorrect_y, results_inv]).transpose()\n",
    "incorrect_df.columns = ['true_author','true_investigator', 'incorrect_investigator']\n",
    "incorrect_df.head()"
   ]
  }
 ],
 "metadata": {
  "kernelspec": {
   "display_name": "Python 3",
   "language": "python",
   "name": "python3"
  },
  "language_info": {
   "codemirror_mode": {
    "name": "ipython",
    "version": 3
   },
   "file_extension": ".py",
   "mimetype": "text/x-python",
   "name": "python",
   "nbconvert_exporter": "python",
   "pygments_lexer": "ipython3",
   "version": "3.6.5"
  }
 },
 "nbformat": 4,
 "nbformat_minor": 2
}
