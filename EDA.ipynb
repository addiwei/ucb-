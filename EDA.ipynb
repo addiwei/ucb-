{
 "cells": [
  {
   "cell_type": "code",
   "execution_count": 15,
   "metadata": {},
   "outputs": [],
   "source": [
    "import pandas as pd\n",
    "import numpy as np\n",
    "from sklearn.feature_extraction.text import TfidfVectorizer\n",
    "import re \n",
    "import matplotlib.pyplot as plt"
   ]
  },
  {
   "cell_type": "code",
   "execution_count": 2,
   "metadata": {},
   "outputs": [],
   "source": [
    "# Set path for two files to be read.\n",
    "path_a = 'authors_1019.csv'\n",
    "path_b = 'investigators_837.csv'"
   ]
  },
  {
   "cell_type": "code",
   "execution_count": 3,
   "metadata": {},
   "outputs": [],
   "source": [
    "authors_df = pd.read_csv(path_a, encoding='iso-8859-1')\n",
    "investigators_df = pd.read_csv(path_b, encoding='iso-8859-1')"
   ]
  },
  {
   "cell_type": "code",
   "execution_count": 17,
   "metadata": {},
   "outputs": [
    {
     "data": {
      "text/html": [
       "<div>\n",
       "<style scoped>\n",
       "    .dataframe tbody tr th:only-of-type {\n",
       "        vertical-align: middle;\n",
       "    }\n",
       "\n",
       "    .dataframe tbody tr th {\n",
       "        vertical-align: top;\n",
       "    }\n",
       "\n",
       "    .dataframe thead th {\n",
       "        text-align: right;\n",
       "    }\n",
       "</style>\n",
       "<table border=\"1\" class=\"dataframe\">\n",
       "  <thead>\n",
       "    <tr style=\"text-align: right;\">\n",
       "      <th></th>\n",
       "      <th>id</th>\n",
       "      <th>first_name</th>\n",
       "      <th>middle_name</th>\n",
       "      <th>lastname</th>\n",
       "      <th>coauthor_lastnames</th>\n",
       "      <th>topics</th>\n",
       "      <th>cities</th>\n",
       "      <th>countries</th>\n",
       "      <th>orcid</th>\n",
       "    </tr>\n",
       "  </thead>\n",
       "  <tbody>\n",
       "    <tr>\n",
       "      <th>0</th>\n",
       "      <td>1</td>\n",
       "      <td>kalid</td>\n",
       "      <td>NaN</td>\n",
       "      <td>abdlslam</td>\n",
       "      <td>[\"howard\",\"thumbikat\",\"bonnaire\",\"oleksak\",\"sa...</td>\n",
       "      <td>[\"Female\",\"Magnetic Resonance Imaging\",\"Spondy...</td>\n",
       "      <td>[{\"identifier\":2638077,\"name\":\"Sheffield\"}]</td>\n",
       "      <td>[{\"identifier\":2635167,\"name\":\"United Kingdom\"}]</td>\n",
       "      <td>NaN</td>\n",
       "    </tr>\n",
       "    <tr>\n",
       "      <th>1</th>\n",
       "      <td>2</td>\n",
       "      <td>p</td>\n",
       "      <td>d</td>\n",
       "      <td>abel</td>\n",
       "      <td>[\"ockrim\",\"lalani\",\"pollock\",\"price\",\"langley\"...</td>\n",
       "      <td>[\"Risk Factors\",\"Humans\",\"Fractures, Spontaneo...</td>\n",
       "      <td>[{\"identifier\":2643743,\"name\":\"London\"}]</td>\n",
       "      <td>[{\"identifier\":2635167,\"name\":\"United Kingdom\"}]</td>\n",
       "      <td>NaN</td>\n",
       "    </tr>\n",
       "    <tr>\n",
       "      <th>2</th>\n",
       "      <td>3</td>\n",
       "      <td>k</td>\n",
       "      <td>NaN</td>\n",
       "      <td>abida</td>\n",
       "      <td>[\"syed\",\"arshad\",\"minakshi\"]</td>\n",
       "      <td>[\"Tomography, X-Ray Computed\",\"Male\",\"Parapare...</td>\n",
       "      <td>[{\"identifier\":null,\"name\":null}]</td>\n",
       "      <td>[{\"identifier\":null,\"name\":null}]</td>\n",
       "      <td>NaN</td>\n",
       "    </tr>\n",
       "    <tr>\n",
       "      <th>3</th>\n",
       "      <td>4</td>\n",
       "      <td>a</td>\n",
       "      <td>NaN</td>\n",
       "      <td>walker</td>\n",
       "      <td>[\"abou raya\",\"helmii\"]</td>\n",
       "      <td>[\"Geriatric Assessment\",\"Case-Control Studies\"...</td>\n",
       "      <td>[{\"identifier\":361058,\"name\":\"Alexandria\"}]</td>\n",
       "      <td>[{\"identifier\":357994,\"name\":\"Egypt\"}]</td>\n",
       "      <td>NaN</td>\n",
       "    </tr>\n",
       "    <tr>\n",
       "      <th>4</th>\n",
       "      <td>5</td>\n",
       "      <td>steven</td>\n",
       "      <td>a</td>\n",
       "      <td>abrams</td>\n",
       "      <td>[\"perez\",\"ellis\",\"loddeke\",\"shypailo\",\"dawson ...</td>\n",
       "      <td>[\"Time Factors\",\"Adrenal Cortex Hormones\",\"Chi...</td>\n",
       "      <td>[{\"identifier\":4699066,\"name\":\"Houston\"}]</td>\n",
       "      <td>[{\"identifier\":6252001,\"name\":\"United States\"}]</td>\n",
       "      <td>NaN</td>\n",
       "    </tr>\n",
       "  </tbody>\n",
       "</table>\n",
       "</div>"
      ],
      "text/plain": [
       "   id first_name middle_name  lastname  \\\n",
       "0   1      kalid         NaN  abdlslam   \n",
       "1   2          p           d      abel   \n",
       "2   3          k         NaN     abida   \n",
       "3   4          a         NaN    walker   \n",
       "4   5     steven           a    abrams   \n",
       "\n",
       "                                  coauthor_lastnames  \\\n",
       "0  [\"howard\",\"thumbikat\",\"bonnaire\",\"oleksak\",\"sa...   \n",
       "1  [\"ockrim\",\"lalani\",\"pollock\",\"price\",\"langley\"...   \n",
       "2                       [\"syed\",\"arshad\",\"minakshi\"]   \n",
       "3                             [\"abou raya\",\"helmii\"]   \n",
       "4  [\"perez\",\"ellis\",\"loddeke\",\"shypailo\",\"dawson ...   \n",
       "\n",
       "                                              topics  \\\n",
       "0  [\"Female\",\"Magnetic Resonance Imaging\",\"Spondy...   \n",
       "1  [\"Risk Factors\",\"Humans\",\"Fractures, Spontaneo...   \n",
       "2  [\"Tomography, X-Ray Computed\",\"Male\",\"Parapare...   \n",
       "3  [\"Geriatric Assessment\",\"Case-Control Studies\"...   \n",
       "4  [\"Time Factors\",\"Adrenal Cortex Hormones\",\"Chi...   \n",
       "\n",
       "                                        cities  \\\n",
       "0  [{\"identifier\":2638077,\"name\":\"Sheffield\"}]   \n",
       "1     [{\"identifier\":2643743,\"name\":\"London\"}]   \n",
       "2            [{\"identifier\":null,\"name\":null}]   \n",
       "3  [{\"identifier\":361058,\"name\":\"Alexandria\"}]   \n",
       "4    [{\"identifier\":4699066,\"name\":\"Houston\"}]   \n",
       "\n",
       "                                          countries  orcid  \n",
       "0  [{\"identifier\":2635167,\"name\":\"United Kingdom\"}]    NaN  \n",
       "1  [{\"identifier\":2635167,\"name\":\"United Kingdom\"}]    NaN  \n",
       "2                 [{\"identifier\":null,\"name\":null}]    NaN  \n",
       "3            [{\"identifier\":357994,\"name\":\"Egypt\"}]    NaN  \n",
       "4   [{\"identifier\":6252001,\"name\":\"United States\"}]    NaN  "
      ]
     },
     "execution_count": 17,
     "metadata": {},
     "output_type": "execute_result"
    }
   ],
   "source": [
    "authors_df.head()"
   ]
  },
  {
   "cell_type": "code",
   "execution_count": 18,
   "metadata": {},
   "outputs": [
    {
     "data": {
      "text/html": [
       "<div>\n",
       "<style scoped>\n",
       "    .dataframe tbody tr th:only-of-type {\n",
       "        vertical-align: middle;\n",
       "    }\n",
       "\n",
       "    .dataframe tbody tr th {\n",
       "        vertical-align: top;\n",
       "    }\n",
       "\n",
       "    .dataframe thead th {\n",
       "        text-align: right;\n",
       "    }\n",
       "</style>\n",
       "<table border=\"1\" class=\"dataframe\">\n",
       "  <thead>\n",
       "    <tr style=\"text-align: right;\">\n",
       "      <th></th>\n",
       "      <th>id</th>\n",
       "      <th>first_name</th>\n",
       "      <th>middle_name</th>\n",
       "      <th>lastname</th>\n",
       "      <th>coinvestigator_lastnames</th>\n",
       "      <th>topics</th>\n",
       "      <th>cities</th>\n",
       "      <th>countries</th>\n",
       "      <th>orcid</th>\n",
       "    </tr>\n",
       "  </thead>\n",
       "  <tbody>\n",
       "    <tr>\n",
       "      <th>0</th>\n",
       "      <td>1</td>\n",
       "      <td>c</td>\n",
       "      <td>NaN</td>\n",
       "      <td>walker</td>\n",
       "      <td>[\"brazil\",\"ballerup\",\"riis\",\"herriot\"]</td>\n",
       "      <td>[\"Calcitonin Gene-Related Peptide\",\"Calcitonin...</td>\n",
       "      <td>[{\"identifier\":null,\"name\":null}]</td>\n",
       "      <td>[{\"identifier\":null,\"name\":null}]</td>\n",
       "      <td>NaN</td>\n",
       "    </tr>\n",
       "    <tr>\n",
       "      <th>1</th>\n",
       "      <td>2</td>\n",
       "      <td>kantonsspital</td>\n",
       "      <td>NaN</td>\n",
       "      <td>aarau</td>\n",
       "      <td>[\"gross\"]</td>\n",
       "      <td>[\"Osteoporotic Fractures\",\"Osteoporosis, Postm...</td>\n",
       "      <td>[{\"identifier\":null,\"name\":null}]</td>\n",
       "      <td>[{\"identifier\":null,\"name\":null}]</td>\n",
       "      <td>NaN</td>\n",
       "    </tr>\n",
       "    <tr>\n",
       "      <th>2</th>\n",
       "      <td>3</td>\n",
       "      <td>kantonspital</td>\n",
       "      <td>NaN</td>\n",
       "      <td>wang</td>\n",
       "      <td>[\"aebi\",\"di bergamo\",\"bern\",\"bergonie\",\"vergin...</td>\n",
       "      <td>[\"Tamoxifen\",\"Osteoporosis\",\"Breast Neoplasms\"]</td>\n",
       "      <td>[{\"identifier\":null,\"name\":null}]</td>\n",
       "      <td>[{\"identifier\":null,\"name\":null}]</td>\n",
       "      <td>NaN</td>\n",
       "    </tr>\n",
       "    <tr>\n",
       "      <th>3</th>\n",
       "      <td>4</td>\n",
       "      <td>m</td>\n",
       "      <td>NaN</td>\n",
       "      <td>li</td>\n",
       "      <td>[\"sherman\"]</td>\n",
       "      <td>[\"Osteoporosis\"]</td>\n",
       "      <td>[{\"identifier\":null,\"name\":null}]</td>\n",
       "      <td>[{\"identifier\":null,\"name\":null}]</td>\n",
       "      <td>NaN</td>\n",
       "    </tr>\n",
       "    <tr>\n",
       "      <th>4</th>\n",
       "      <td>5</td>\n",
       "      <td>paul</td>\n",
       "      <td>NaN</td>\n",
       "      <td>abel</td>\n",
       "      <td>[\"nhs\"]</td>\n",
       "      <td>[\"Estradiol\",\"Goserelin\",\"Osteoporosis\",\"Estro...</td>\n",
       "      <td>[{\"identifier\":2643743,\"name\":\"London\"}]</td>\n",
       "      <td>[{\"identifier\":2635167,\"name\":\"United Kingdom\"}]</td>\n",
       "      <td>NaN</td>\n",
       "    </tr>\n",
       "  </tbody>\n",
       "</table>\n",
       "</div>"
      ],
      "text/plain": [
       "   id     first_name middle_name lastname  \\\n",
       "0   1              c         NaN   walker   \n",
       "1   2  kantonsspital         NaN    aarau   \n",
       "2   3   kantonspital         NaN     wang   \n",
       "3   4              m         NaN       li   \n",
       "4   5           paul         NaN     abel   \n",
       "\n",
       "                            coinvestigator_lastnames  \\\n",
       "0             [\"brazil\",\"ballerup\",\"riis\",\"herriot\"]   \n",
       "1                                          [\"gross\"]   \n",
       "2  [\"aebi\",\"di bergamo\",\"bern\",\"bergonie\",\"vergin...   \n",
       "3                                        [\"sherman\"]   \n",
       "4                                            [\"nhs\"]   \n",
       "\n",
       "                                              topics  \\\n",
       "0  [\"Calcitonin Gene-Related Peptide\",\"Calcitonin...   \n",
       "1  [\"Osteoporotic Fractures\",\"Osteoporosis, Postm...   \n",
       "2    [\"Tamoxifen\",\"Osteoporosis\",\"Breast Neoplasms\"]   \n",
       "3                                   [\"Osteoporosis\"]   \n",
       "4  [\"Estradiol\",\"Goserelin\",\"Osteoporosis\",\"Estro...   \n",
       "\n",
       "                                     cities  \\\n",
       "0         [{\"identifier\":null,\"name\":null}]   \n",
       "1         [{\"identifier\":null,\"name\":null}]   \n",
       "2         [{\"identifier\":null,\"name\":null}]   \n",
       "3         [{\"identifier\":null,\"name\":null}]   \n",
       "4  [{\"identifier\":2643743,\"name\":\"London\"}]   \n",
       "\n",
       "                                          countries  orcid  \n",
       "0                 [{\"identifier\":null,\"name\":null}]    NaN  \n",
       "1                 [{\"identifier\":null,\"name\":null}]    NaN  \n",
       "2                 [{\"identifier\":null,\"name\":null}]    NaN  \n",
       "3                 [{\"identifier\":null,\"name\":null}]    NaN  \n",
       "4  [{\"identifier\":2635167,\"name\":\"United Kingdom\"}]    NaN  "
      ]
     },
     "execution_count": 18,
     "metadata": {},
     "output_type": "execute_result"
    }
   ],
   "source": [
    "investigators_df.head()"
   ]
  },
  {
   "cell_type": "code",
   "execution_count": 10,
   "metadata": {},
   "outputs": [
    {
     "data": {
      "text/plain": [
       "id                            0\n",
       "first_name                    4\n",
       "middle_name                 616\n",
       "lastname                      0\n",
       "coinvestigator_lastnames      0\n",
       "topics                        0\n",
       "cities                        0\n",
       "countries                     0\n",
       "orcid                       631\n",
       "dtype: int64"
      ]
     },
     "execution_count": 10,
     "metadata": {},
     "output_type": "execute_result"
    }
   ],
   "source": [
    "authors_df.isnull().sum()\n",
    "investigators_df.isnull().sum()"
   ]
  },
  {
   "cell_type": "code",
   "execution_count": 13,
   "metadata": {},
   "outputs": [
    {
     "data": {
      "text/plain": [
       "Index(['[\"Middle Aged\",\"Female\",\"Radiography\",\"Shoulder Fractures\",\"Male\",\"Aged, 80 and over\",\"Adult\",\"Follow-Up Studies\",\"Treatment Outcome\",\"Aged\",\"Fracture Fixation, Intramedullary\",\"Humans\",\"Retrospective Studies\"]',\n",
       "       '[\"Aged\",\"Japan\",\"Malpractice\",\"Humans\",\"Nursing Homes\",\"Femoral Neck Fractures\",\"Female\",\"Respiratory Aspiration\"]',\n",
       "       '[\"Biomarkers\",\"Bone Neoplasms\",\"Antibiotics, Antineoplastic\",\"Neuroblastoma\",\"Treatment Outcome\",\"Mice, SCID\",\"Dose-Response Relationship, Drug\",\"Cell Line, Tumor\",\"Sirolimus\",\"Humans\",\"Injections, Intraperitoneal\",\"Fractures, Spontaneous\",\"Animals\",\"Enzyme-Linked Immunosorbent Assay\",\"Reverse Transcriptase Polymerase Chain Reaction\",\"Osteoprotegerin\",\"Antineoplastic Combined Chemotherapy Protocols\",\"Drug Administration Schedule\",\"Mice\"]',\n",
       "       '[\"Nitriles\",\"Female\",\"Drug Therapy, Combination\",\"Neoplasm Staging\",\"Diphosphonates\",\"Aromatase Inhibitors\",\"Imidazoles\",\"Breast Neoplasms\",\"Middle Aged\",\"Bone Density\",\"Aged, 80 and over\",\"Prospective Studies\",\"Follow-Up Studies\",\"Antineoplastic Agents, Hormonal\",\"Bone Density Conservation Agents\",\"Triazoles\",\"Humans\",\"Adult\",\"Aged\",\"Tamoxifen\",\"Antineoplastic Agents\",\"Osteoporosis, Postmenopausal\"]',\n",
       "       '[\"Gastric Bypass\",\"Risk\",\"Bone and Bones\",\"Stress, Mechanical\",\"Bone Density\",\"Anastomosis, Roux-en-Y\",\"Male\",\"Regression Analysis\",\"Female\",\"Linear Models\",\"Prospective Studies\",\"Radius\",\"Middle Aged\",\"Adult\",\"Absorptiometry, Photon\",\"Weight-Bearing\",\"Humans\",\"Tibia\",\"Tomography, X-Ray Computed\",\"Fractures, Bone\",\"Obesity, Morbid\",\"Sensitivity and Specificity\",\"Point-of-Care Testing\",\"Aged, 80 and over\",\"Lumbar Vertebrae\",\"Aged\",\"Osteoporotic Fractures\",\"Finger Phalanges\",\"Denmark\",\"Hip\",\"Risk Assessment\",\"Probability\",\"False Negative Reactions\",\"Area Under Curve\",\"Registries\",\"Mass Screening\",\"Norway\",\"Cross-Sectional Studies\",\"Osteoporosis\",\"Risk Factors\",\"Heel\",\"Ultrasonography\",\"Equipment Design\",\"Calcaneus\",\"Cost-Benefit Analysis\",\"Surveys and Questionnaires\",\"Research Design\",\"International Classification of Diseases\",\"Incidence\",\"Hip Fractures\",\"Cohort Studies\",\"Population Surveillance\",\"Lupus Erythematosus, Systemic\",\"Young Adult\",\"Finite Element Analysis\",\"Follow-Up Studies\",\"Combined Modality Therapy\",\"Androgen Antagonists\",\"Bone Diseases, Metabolic\",\"Prostatic Neoplasms\",\"Smoking\",\"Neoplasm Grading\",\"Vitamin D\",\"Retrospective Studies\",\"Prevalence\",\"Prostate-Specific Antigen\",\"Calcium\",\"Peritoneal Dialysis\",\"Longitudinal Studies\",\"Kidney Failure, Chronic\",\"Renal Dialysis\",\"HEK293 Cells\",\"Genotyping Techniques\",\"Polymorphism, Single Nucleotide\",\"Aging\",\"Protein Biosynthesis\",\"Wnt1 Protein\",\"Base Sequence\",\"Genome-Wide Association Study\",\"Luciferases\",\"Mice\",\"Genetic Variation\",\"Animals\",\"Wnt Proteins\",\"Linkage Disequilibrium\",\"Sequence Analysis, DNA\",\"Genes, Reporter\",\"Physical Chromosome Mapping\",\"Gene Frequency\",\"Bone Remodeling\",\"Birth Weight\",\"Biomarkers\",\"Anthropometry\",\"Twins, Monozygotic\",\"Kaplan-Meier Estimate\",\"Age Factors\",\"Self Report\",\"Predictive Value of Tests\",\"Reproducibility of Results\",\"Practice Patterns, Physicians'\",\"Proto-Oncogene Proteins c-kit\",\"Severity of Illness Index\",\"Mastocytosis, Systemic\",\"Anaphylaxis\",\"Mutation\",\"Bone Marrow Cells\",\"Phenotype\",\"Polymorphism, Genetic\",\"Cell Proliferation\",\"European Continental Ancestry Group\",\"Myostatin\",\"Genotype\",\"Densitometry\",\"Muscles\",\"Activin Receptors, Type II\",\"Myogenin\",\"MyoD Protein\",\"Femur\",\"Haplotypes\",\"Osteoporosis, Postmenopausal\",\"Double-Blind Method\",\"Bone Density Conservation Agents\",\"Treatment Outcome\",\"Biphenyl Compounds\",\"Postmenopause\",\"Radiography\",\"Adolescent\",\"Health Surveys\",\"Thinness\",\"Obesity\",\"Testosterone\",\"Analysis of Variance\",\"Diphosphonates\",\"Spinal Fractures\",\"Imidazoles\",\"Hypogonadism\",\"Logistic Models\",\"Eye Diseases\",\"Drug Prescriptions\",\"Databases, Factual\",\"Time Factors\",\"Biomechanical Phenomena\",\"Parathyroid Hormone\",\"Qualitative Research\",\"England\",\"Knowledge\",\"Proto-Oncogene Proteins\",\"Belgium\",\"Body Composition\",\"Models, Biological\",\"Tibial Fractures\",\"Osteogenesis Imperfecta\",\"Receptors, Purinergic P2X7\",\"Genetic Predisposition to Disease\",\"Chi-Square Distribution\",\"Sex Factors\",\"Men's Health\",\"Thoracic Vertebrae\",\"Intercellular Signaling Peptides and Proteins\",\"Membrane Proteins\",\"Adiposity\",\"Body Mass Index\",\"In Vitro Techniques\",\"Femur Head\",\"Computer Simulation\",\"Compressive Strength\",\"Bone Matrix\",\"Adipocytes\",\"Human Growth Hormone\",\"Osteoblasts\",\"Transforming Growth Factor beta1\",\"Cell Line\",\"Insulin-Like Growth Factor I\",\"Macrophages\",\"Decision Support Techniques\",\"Internet\",\"Algorithms\",\"Health Policy\",\"Erectile Dysfunction\",\"Movement\",\"Dizziness\",\"Socioeconomic Factors\",\"Life Style\",\"Accidental Falls\",\"Urination Disorders\",\"Comorbidity\",\"Patient Selection\",\"PPAR gamma\",\"Case-Control Studies\",\"Diet\",\"Body Weight\",\"Estrogen Replacement Therapy\",\"Arachidonate 12-Lipoxygenase\",\"Epidemiologic Methods\",\"Hip Joint\",\"Alkaline Phosphatase\",\"Teriparatide\",\"Femur Neck\",\"Osteogenesis\",\"Procollagen\",\"Drug Substitution\",\"Peptide Fragments\",\"Physical Endurance\",\"Focus Groups\",\"Masculinity\",\"Data Interpretation, Statistical\",\"Psychometrics\",\"Stress, Psychological\",\"Adaptation, Psychological\",\"Tape Recording\",\"Motor Activity\",\"Health Services Accessibility\",\"Fibroblast Growth Factors\",\"Sex Characteristics\",\"Reference Values\",\"Body Height\",\"Familial Hypophosphatemic Rickets\",\"Tooth, Nonvital\",\"Osteomalacia\",\"Periodontal Diseases\",\"Genetic Diseases, X-Linked\",\"PHEX Phosphate Regulating Neutral Endopeptidase\",\"Back Pain\",\"Drug Administration Schedule\",\"Drug Therapy, Combination\",\"Pain Measurement\",\"Raloxifene Hydrochloride\",\"Medication Adherence\",\"Patient Education as Topic\",\"Educational Status\",\"Program Evaluation\",\"Self-Help Groups\",\"Health Knowledge, Attitudes, Practice\",\"Pulmonary Disease, Chronic Obstructive\",\"Glucocorticoids\",\"Prednisone\",\"Introns\",\"Receptors, Calcitriol\",\"Calcification, Physiologic\",\"Fractures, Spontaneous\",\"Deoxyribonucleases, Type II Site-Specific\",\"Adrenal Glands\",\"Pituitary Gland\",\"Cushing Syndrome\",\"Poisson Distribution\",\"Prolactinoma\",\"Adenoma\",\"Pituitary Neoplasms\",\"Craniopharyngioma\",\"Growth Hormone\",\"Hormone Replacement Therapy\",\"Calcitonin\",\"Progestins\",\"Cost of Illness\",\"Bulimia\",\"Anorexia Nervosa\",\"Random Allocation\",\"Markov Chains\",\"Receptors, Cytoplasmic and Nuclear\",\"Insulin-Like Growth Factor Binding Protein 3\",\"Receptors, Tumor Necrosis Factor\",\"Osteoprotegerin\",\"Glycoproteins\",\"Insulin-Like Growth Factor Binding Protein 5\",\"Alleles\",\"Proportional Hazards Models\",\"Methylenetetrahydrofolate Reductase (NADPH2)\",\"Turner Syndrome\",\"Child, Preschool\",\"Infant\",\"Child\",\"Diabetes Complications\",\"Alendronate\",\"Gastrointestinal Diseases\",\"Referral and Consultation\",\"Age Distribution\",\"Attitude to Health\",\"Interviews as Topic\",\"Patient Compliance\",\"Perimenopause\",\"Estrogens\",\"European Union\",\"Anabolic Agents\",\"Randomized Controlled Trials as Topic\",\"Amino Acid Sequence\",\"Molecular Sequence Data\",\"Drug Approval\",\"Drug Costs\",\"Creatinine\",\"Adrenergic beta-Antagonists\",\"Osteocalcin\",\"Odds Ratio\",\"Myeloma Proteins\",\"Multiple Myeloma\",\"Monoclonal Gammopathy of Undetermined Significance\",\"Diet Records\",\"Cytosine\",\"Thymine\",\"Riboflavin\",\"Folic Acid\",\"Estrogen Receptor Modulators\",\"Cholecalciferol\",\"Progesterone\",\"Estrogens, Conjugated (USP)\",\"Selective Estrogen Receptor Modulators\",\"Estradiol\",\"Bone Resorption\",\"Vitamin D Deficiency\",\"Quality of Life\",\"Family Health\",\"Chromosome Mapping\",\"Chromosome Deletion\",\"Chromosomes, Human, Pair 21\",\"Down Syndrome\",\"Chromosome Breakage\",\"Chromosomes, Human, Pair 11\",\"Syndrome\",\"Translocation, Genetic\",\"Menopause\",\"Organometallic Compounds\",\"Thiophenes\",\"Spine\",\"Arthritis\",\"Synovitis\",\"Aromatase Inhibitors\",\"Antineoplastic Agents, Hormonal\",\"Breast Neoplasms\",\"Risk Reduction Behavior\",\"Orchiectomy\",\"Gonadotropin-Releasing Hormone\",\"Disease Progression\",\"Osteoarthritis\",\"Spinal Diseases\",\"LDL-Receptor Related Proteins\",\"Low Density Lipoprotein Receptor-Related Protein-5\",\"Low Density Lipoprotein Receptor-Related Protein-6\",\"Spinal Injuries\",\"Phantoms, Imaging\",\"Confidence Intervals\",\"Europe\",\"Geography\",\"Drug-Related Side Effects and Adverse Reactions\",\"Etidronic Acid\",\"Myocardial Infarction\",\"Atrial Fibrillation\",\"Receptors, Purinergic P2\",\"Body Weights and Measures\",\"Femoral Neck Fractures\",\"ROC Curve\",\"Feasibility Studies\",\"Epistasis, Genetic\",\"Genetic Association Studies\"]',\n",
       "       '[\"Aged\",\"Bone Density Conservation Agents\",\"Humans\",\"Indoles\",\"Endometrium\",\"Middle Aged\",\"Ovarian Neoplasms\",\"Selective Estrogen Receptor Modulators\",\"Spinal Fractures\",\"Incidence\",\"Double-Blind Method\",\"Neoplasms, Glandular and Epithelial\",\"Osteoporosis, Postmenopausal\",\"Endometrial Neoplasms\",\"Ultrasonography\",\"Female\",\"Endometrial Hyperplasia\",\"Postmenopause\",\"Vaginitis\"]',\n",
       "       '[\"Male\",\"Vacuum Extraction, Obstetrical\",\"Diseases in Twins\",\"Humans\",\"Infant, Newborn\",\"Skull Fractures\",\"Treatment Outcome\",\"Adult\",\"Female\",\"Thoracic Vertebrae\",\"Joint Dislocations\",\"Spinal Fractures\",\"Intervertebral Disc Displacement\",\"Practice Guidelines as Topic\",\"Cervical Vertebrae\",\"Aged\",\"Middle Aged\",\"Retrospective Studies\",\"Practice Patterns, Physicians'\",\"Fracture Fixation, Internal\",\"Child\",\"Bone Nails\",\"Radius Fractures\",\"Diaphyses\",\"Radionuclide Imaging\",\"Radiography\",\"Tibia\",\"Crutches\",\"Amputation\",\"Osteosarcoma\",\"Fractures, Stress\",\"Ulna Fractures\",\"Magnetic Resonance Imaging\",\"Bone Neoplasms\",\"Epilepsy, Frontal Lobe\",\"Anticonvulsants\",\"Kyphosis\",\"Spinal Fusion\",\"Phenytoin\",\"Muscle Weakness\",\"Posture\",\"Chronic Disease\",\"Neck Muscles\",\"Femoral Fractures\",\"Hematoma\",\"Fracture Fixation, Intramedullary\",\"Postoperative Complications\",\"Hip Prosthesis\",\"Aged, 80 and over\",\"Femoral Artery\",\"Aneurysm, False\",\"Femur\",\"Prosthesis Failure\",\"Time Factors\",\"Prognosis\",\"Prospective Studies\",\"Arthroplasty, Replacement, Hip\",\"Reoperation\",\"Fracture Healing\",\"Case-Control Studies\",\"Osteoarthritis, Hip\",\"Risk Factors\",\"Follow-Up Studies\",\"Range of Motion, Articular\",\"Fractures, Ununited\",\"Bone Plates\",\"Shoulder Fractures\",\"Ankle Fractures\",\"Geriatric Assessment\",\"Risk Assessment\",\"Survival Rate\",\"Cohort Studies\",\"Osteoporotic Fractures\",\"Frail Elderly\",\"Ankle Injuries\",\"Arthroplasty, Replacement\",\"Humeral Head\",\"Fracture Fixation\",\"Decision Making\"]',\n",
       "       '[\"Osteoporosis\",\"Female\",\"Humans\",\"Quality of Health Care\",\"Healthcare Disparities\",\"Male\",\"Fractures, Bone\",\"Practice Guidelines as Topic\",\"Quality Assurance, Health Care\",\"Reimbursement, Incentive\",\"United States\",\"Hip Fractures\",\"Osteoporotic Fractures\",\"Medicare\",\"Aged\",\"Fractures, Spontaneous\",\"Spinal Fractures\",\"Incidence\",\"Bone Neoplasms\",\"Aged, 80 and over\",\"Home Care Services\",\"Risk Assessment\",\"Vitamin D\",\"Accidental Falls\",\"Algorithms\",\"Frail Elderly\",\"Calcium\",\"Long-Term Care\",\"Bone Density Conservation Agents\",\"Patient Education as Topic\",\"Physician-Patient Relations\",\"Bone Density\",\"Patient Compliance\",\"Risk Reduction Behavior\",\"Drug Administration Schedule\",\"Psychology\",\"HIV Infections\",\"Randomized Controlled Trials as Topic\",\"Antiretroviral Therapy, Highly Active\",\"Risk Factors\",\"Insurance Claim Review\",\"Death\",\"Statistics as Topic\",\"Centers for Medicare and Medicaid Services (U.S.)\",\"Withholding Treatment\",\"Secondary Prevention\",\"Probability\",\"Disease Susceptibility\",\"Time Factors\",\"Recurrence\",\"Age Factors\",\"Wounds and Injuries\",\"Mass Screening\",\"Osteoporosis, Postmenopausal\",\"Academic Medical Centers\",\"Appointments and Schedules\",\"Postal Service\",\"Absorptiometry, Photon\",\"Alabama\",\"RANK Ligand\",\"Antibodies, Monoclonal, Humanized\",\"Teriparatide\",\"Diphosphonates\",\"Denosumab\",\"Comparative Effectiveness Research\",\"Treatment Outcome\",\"Sample Size\",\"Research Design\",\"Patient Selection\",\"Glucocorticoids\",\"Prednisone\",\"Rheumatic Diseases\",\"Bone and Bones\",\"Adrenocortical Hyperfunction\",\"Hormone Replacement Therapy\",\"Cushing Syndrome\",\"Diagnostic Self Evaluation\",\"Comorbidity\",\"Continental Population Groups\",\"Anti-HIV Agents\",\"Adult\",\"Child\",\"AIDS-Associated Nephropathy\",\"Anti-Retroviral Agents\",\"Diabetes Mellitus\",\"Atherosclerosis\",\"Middle Aged\",\"Anti-Inflammatory Agents\",\"Imidazoles\",\"Alendronate\"]',\n",
       "       '[\"Machine Learning\",\"Diagnosis, Computer-Assisted\",\"Humans\",\"Reproducibility of Results\",\"Bayes Theorem\",\"Decision Support Systems, Clinical\",\"Osteoporosis\",\"Female\",\"Sensitivity and Specificity\",\"Algorithms\",\"Population Surveillance\",\"Brazil\",\"Electronic Health Records\",\"Information Storage and Retrieval\",\"Prevalence\",\"Age Distribution\",\"Computer Communication Networks\",\"Risk Factors\"]',\n",
       "       '[\"Tamoxifen\",\"Antineoplastic Combined Chemotherapy Protocols\",\"Aged\",\"Multivariate Analysis\",\"Lumbar Vertebrae\",\"Humans\",\"Middle Aged\",\"Hip\",\"Retrospective Studies\",\"Randomized Controlled Trials as Topic\",\"Triazoles\",\"Bone Density\",\"Aged, 80 and over\",\"Breast Neoplasms\",\"Radiography\",\"Female\",\"Osteoporosis\",\"Nitriles\",\"Postmenopause\",\"Drug Administration Schedule\",\"Double-Blind Method\",\"Collagen Type I\",\"Osteoporosis, Postmenopausal\",\"Biomarkers, Tumor\",\"Peptides\",\"Chemotherapy, Adjuvant\",\"Osteocalcin\",\"Antineoplastic Agents, Hormonal\",\"Alkaline Phosphatase\",\"Prospective Studies\",\"Fertility Preservation\",\"Mastectomy\",\"Neoplasm Staging\",\"Mammography\",\"Research\",\"Menopause, Premature\",\"Pregnancy\",\"Practice Guidelines as Topic\",\"Genetic Counseling\",\"Mass Screening\",\"Antineoplastic Protocols\",\"Adult\",\"Disease Management\",\"Age of Onset\",\"Pregnancy Complications, Neoplastic\",\"Magnetic Resonance Imaging\"]',\n",
       "       ...\n",
       "       '[\"X-Ray Microtomography\",\"Gels\",\"Fractures, Bone\",\"Animals\",\"Porosity\",\"Male\",\"Bone Morphogenetic Protein 2\",\"Femur\",\"Fibrin\",\"Biomechanical Phenomena\",\"Microscopy, Electron, Scanning\",\"Bone Regeneration\",\"Rats, Wistar\",\"Prostheses and Implants\",\"Bone Substitutes\",\"Titanium\",\"Weight-Bearing\"]',\n",
       "       '[\"Atrial Fibrillation\",\"Drug Administration Schedule\",\"Myocardial Infarction\",\"Incidence\",\"Atrial Flutter\",\"Humans\",\"Retrospective Studies\",\"Alendronate\",\"Aged\",\"Selective Estrogen Receptor Modulators\",\"Middle Aged\",\"Proportional Hazards Models\",\"Taiwan\",\"Osteoporosis, Postmenopausal\",\"Databases, Factual\",\"Raloxifene Hydrochloride\",\"Female\",\"Diphosphonates\",\"Follow-Up Studies\",\"Aged, 80 and over\",\"Male\",\"Osteoporosis\",\"Surveys and Questionnaires\",\"Reproducibility of Results\",\"Quality of Life\",\"Translating\",\"Risk Factors\",\"Femoral Neck Fractures\",\"Child\",\"Slipped Capital Femoral Epiphyses\",\"Treatment Outcome\",\"Time Factors\",\"Reoperation\",\"Fracture Fixation, Internal\"]',\n",
       "       '[\"Rats, Sprague-Dawley\",\"Animals\",\"Body Weight\",\"Ovariectomy\",\"Uterus\",\"Nitroglycerin\",\"Estradiol\",\"Absorptiometry, Photon\",\"Organ Size\",\"Osteoporosis\",\"Osteocalcin\",\"Bone Density\",\"Amino Acids\",\"Femur\",\"Rats\",\"Drug Therapy, Combination\",\"Female\",\"Humans\",\"Fluorides\",\"Randomized Controlled Trials as Topic\",\"Treatment Outcome\",\"Hormone Replacement Therapy\",\"Osteoporosis, Postmenopausal\",\"Diphosphonates\",\"Elasticity\",\"Bone and Bones\",\"Tensile Strength\",\"Aged\",\"Fractures, Bone\",\"Models, Biological\",\"Risk Factors\",\"Cultural Characteristics\",\"Body Mass Index\",\"Diet\",\"Menopause\",\"Attitude to Health\",\"Reproductive History\",\"Breast Feeding\",\"Public Health\",\"Menstrual Cycle\",\"Socioeconomic Factors\",\"United States\",\"Parity\",\"Infant, Newborn\",\"Isoflavones\",\"Child, Preschool\",\"Quality of Life\",\"Estrogens, Non-Steroidal\",\"Dietary Supplements\",\"Nutritional Status\",\"Nutritional Requirements\",\"Vitamin K\",\"Calcium, Dietary\",\"Adolescent\",\"Middle Aged\",\"Vitamin A Deficiency\",\"Vitamin D Deficiency\",\"Vitamin A\",\"Plant Preparations\",\"Infant\",\"Vitamin D\",\"Child\",\"Vitamin K Deficiency\",\"Phytoestrogens\",\"Male\",\"Life Style\",\"Adult\",\"Ilium\",\"Lumbar Vertebrae\",\"Nonlinear Dynamics\",\"Aged, 80 and over\",\"Stress, Mechanical\",\"Aging\",\"Computer Simulation\",\"Weight-Bearing\",\"Vibration\",\"In Vitro Techniques\",\"Osteoprotegerin\",\"Nitric Oxide\",\"Clinical Trials as Topic\",\"Nitric Oxide Synthase\",\"Estrogens\",\"RANK Ligand\",\"Cyclic GMP\",\"Jaw Diseases\",\"Osteomyelitis\",\"Osteonecrosis\",\"Dose-Response Relationship, Drug\",\"Bone Diseases\",\"Neoplasms\",\"Disease Models, Animal\",\"Cell Proliferation\",\"Practice Guidelines as Topic\",\"Neovascularization, Physiologic\",\"Angiogenesis Inhibitors\",\"Bone Density Conservation Agents\",\"Wound Healing\",\"Double-Blind Method\",\"Administration, Cutaneous\",\"Nitric Oxide Donors\",\"Estrogen Replacement Therapy\"]',\n",
       "       '[\"Male\",\"Adult\",\"Female\",\"Combined Modality Therapy\",\"Middle Aged\",\"Fractures, Bone\",\"Elbow Joint\",\"Case-Control Studies\",\"Humans\",\"Postoperative Complications\",\"Aged\",\"Joint Diseases\"]',\n",
       "       '[\"Patient Satisfaction\",\"Follow-Up Studies\",\"Male\",\"Female\",\"Middle Aged\",\"Adolescent\",\"Colles' Fracture\",\"Humans\",\"Adult\",\"Osteotomy\",\"Ulna\"]',\n",
       "       '[\"Organ Size\",\"Zygomatic Fractures\",\"Multiple Trauma\",\"Female\",\"Tomography, X-Ray Computed\",\"Male\",\"Humans\",\"Retrospective Studies\",\"Orbital Fractures\",\"Adult\",\"Middle Aged\",\"Maxillary Fractures\",\"Young Adult\",\"Adolescent\"]',\n",
       "       '[\"Accidental Falls\",\"Fluorodeoxyglucose F18\",\"Humans\",\"Substantia Nigra\",\"Mandibular Fractures\",\"Thalamus\",\"Male\",\"Adult\",\"Tomography, X-Ray Computed\",\"Brain Injuries\",\"Tomography, Emission-Computed\",\"Magnetic Resonance Imaging\"]',\n",
       "       '[\"Male\",\"Osteoporotic Fractures\",\"Aged, 80 and over\",\"Risk Factors\",\"Female\",\"Insurance Claim Review\",\"Aged\",\"Humans\",\"Retrospective Studies\",\"Taiwan\",\"Incidence\"]',\n",
       "       '[\"Muscle Strength Dynamometer\",\"Cohort Studies\",\"Aged\",\"Young Adult\",\"Muscle Strength\",\"Absorptiometry, Photon\",\"Adult\",\"Humans\",\"Risk Assessment\",\"Task Performance and Analysis\",\"Muscle, Skeletal\",\"Adolescent\",\"Femur Neck\",\"Middle Aged\",\"France\",\"Bone Density\",\"Posture\",\"Confounding Factors (Epidemiology)\",\"Osteoporosis\",\"Female\"]',\n",
       "       '[\"Osteoporosis, Postmenopausal\",\"Humans\",\"Menopause\",\"Vaginal Diseases\",\"Urinary Incontinence\",\"Hot Flashes\",\"Female\",\"Heart Diseases\",\"Breast Neoplasms\",\"Gonadotropin-Releasing Hormone\",\"Antineoplastic Agents\",\"Infertility, Female\",\"Bone Density\",\"Osteoporosis\",\"Estrogens\",\"Animals\",\"Ovary\",\"Menopause, Premature\",\"Neoplasms\",\"Sleep Initiation and Maintenance Disorders\",\"Cachexia\",\"Clinical Trials as Topic\",\"Nervous System Diseases\",\"Mucositis\",\"Pain\",\"Skin Diseases\",\"Anemia\",\"Fatigue\",\"Anorexia\",\"Radiotherapy\",\"Lymphedema\",\"Double-Blind Method\",\"Bone Diseases, Metabolic\",\"Bone Density Conservation Agents\",\"Vitamin D\",\"Middle Aged\",\"Risedronate Sodium\",\"Adult\",\"Calcium\",\"Drug Therapy, Combination\",\"Etidronic Acid\",\"Premenopause\",\"Triazoles\",\"Diphosphonates\",\"Nitriles\",\"Tamoxifen\",\"Drug Administration Schedule\",\"Aged, 80 and over\",\"Aged\",\"Imidazoles\",\"Male\",\"Estradiol\",\"Prostatic Neoplasms\",\"Antineoplastic Combined Chemotherapy Protocols\",\"Gynecomastia\",\"Chemotherapy, Adjuvant\",\"Treatment Outcome\",\"Aromatase Inhibitors\",\"Risk Factors\",\"Absorptiometry, Photon\",\"Endpoint Determination\",\"Femur Neck\",\"Reproducibility of Results\",\"Lumbar Vertebrae\",\"Postmenopause\",\"Disease Progression\",\"Breast Neoplasms, Male\",\"Follow-Up Studies\",\"Adjuvants, Pharmaceutic\",\"Bone Neoplasms\",\"Pain Measurement\",\"Bone and Bones\",\"Spinal Cord Compression\",\"Multiple Myeloma\",\"Sample Size\",\"Spinal Fractures\"]'],\n",
       "      dtype='object', length=1015)"
      ]
     },
     "execution_count": 13,
     "metadata": {},
     "output_type": "execute_result"
    }
   ],
   "source": [
    "authors_df.topics.value_counts().index"
   ]
  },
  {
   "cell_type": "code",
   "execution_count": 6,
   "metadata": {},
   "outputs": [
    {
     "data": {
      "text/plain": [
       "Index(['[{\"identifier\":null,\"name\":null}]',\n",
       "       '[{\"identifier\":4930956,\"name\":\"Boston\"}]',\n",
       "       '[{\"identifier\":2988507,\"name\":\"Paris\"}]',\n",
       "       '[{\"identifier\":2661552,\"name\":\"Bern\"}]',\n",
       "       '[{\"identifier\":5128581,\"name\":\"New York City\"}]',\n",
       "       '[{\"identifier\":5368361,\"name\":\"Los Angeles\"}]',\n",
       "       '[{\"identifier\":6167865,\"name\":\"Toronto\"}]',\n",
       "       '[{\"identifier\":4347778,\"name\":\"Baltimore\"}]',\n",
       "       '[{\"identifier\":2643743,\"name\":\"London\"}]',\n",
       "       '[{\"identifier\":2638077,\"name\":\"Sheffield\"}]',\n",
       "       ...\n",
       "       '[{\"identifier\":734077,\"name\":\"Thessaloníki\"}]',\n",
       "       '[{\"identifier\":3169070,\"name\":\"Rome\"}]',\n",
       "       '[{\"identifier\":290030,\"name\":\"Doha\"}]',\n",
       "       '[{\"identifier\":5391959,\"name\":\"San Francisco\"},{\"identifier\":2867543,\"name\":\"Münster\"},{\"identifier\":2867714,\"name\":\"Munich\"}]',\n",
       "       '[{\"identifier\":4726206,\"name\":\"San Antonio\"},{\"identifier\":4644585,\"name\":\"Nashville\"}]',\n",
       "       '[{\"identifier\":3096472,\"name\":\"Katowice\"}]',\n",
       "       '[{\"identifier\":2624886,\"name\":\"Aalborg\"}]',\n",
       "       '[{\"identifier\":2918632,\"name\":\"Göttingen\"}]',\n",
       "       '[{\"identifier\":3467717,\"name\":\"Campo Mourão\"}]',\n",
       "       '[{\"identifier\":2659436,\"name\":\"Nottwil\"}]'],\n",
       "      dtype='object', length=385)"
      ]
     },
     "execution_count": 6,
     "metadata": {},
     "output_type": "execute_result"
    }
   ],
   "source": [
    "authors_df.cities.value_counts().index"
   ]
  },
  {
   "cell_type": "code",
   "execution_count": 9,
   "metadata": {},
   "outputs": [
    {
     "data": {
      "text/plain": [
       "Index(['[{\"identifier\":null,\"name\":null}]',\n",
       "       '[{\"identifier\":6252001,\"name\":\"United States\"}]',\n",
       "       '[{\"identifier\":1814991,\"name\":\"China\"}]',\n",
       "       '[{\"identifier\":2635167,\"name\":\"United Kingdom\"}]',\n",
       "       '[{\"identifier\":6251999,\"name\":\"Canada\"}]',\n",
       "       '[{\"identifier\":3017382,\"name\":\"France\"}]',\n",
       "       '[{\"identifier\":2921044,\"name\":\"Germany\"}]',\n",
       "       '[{\"identifier\":2623032,\"name\":\"Denmark\"}]',\n",
       "       '[{\"identifier\":2658434,\"name\":\"Switzerland\"}]',\n",
       "       '[{\"identifier\":1861060,\"name\":\"Japan\"}]',\n",
       "       ...\n",
       "       '[{\"identifier\":3190538,\"name\":\"Slovenia\"}]',\n",
       "       '[{\"identifier\":2658434,\"name\":\"Switzerland\"},{\"identifier\":6252001,\"name\":\"United States\"},{\"identifier\":2782113,\"name\":\"Austria\"}]',\n",
       "       '[{\"identifier\":2750405,\"name\":\"Netherlands\"},{\"identifier\":2782113,\"name\":\"Austria\"}]',\n",
       "       '[{\"identifier\":6251999,\"name\":\"Canada\"},{\"identifier\":2635167,\"name\":\"United Kingdom\"},{\"identifier\":6252001,\"name\":\"United States\"},{\"identifier\":2077456,\"name\":\"Australia\"},{\"identifier\":2750405,\"name\":\"Netherlands\"},{\"identifier\":953987,\"name\":\"South Africa\"}]',\n",
       "       '[{\"identifier\":660013,\"name\":\"Finland\"},{\"identifier\":2453866,\"name\":\"Mali\"}]',\n",
       "       '[{\"identifier\":1733045,\"name\":\"Malaysia\"}]',\n",
       "       '[{\"identifier\":2635167,\"name\":\"United Kingdom\"},{\"identifier\":6252001,\"name\":\"United States\"},{\"identifier\":2661886,\"name\":\"Sweden\"}]',\n",
       "       '[{\"identifier\":102358,\"name\":\"Saudi Arabia\"},{\"identifier\":2635167,\"name\":\"United Kingdom\"}]',\n",
       "       '[{\"identifier\":2635167,\"name\":\"United Kingdom\"},{\"identifier\":2077456,\"name\":\"Australia\"},{\"identifier\":6252001,\"name\":\"United States\"}]',\n",
       "       '[{\"identifier\":2658434,\"name\":\"Switzerland\"},{\"identifier\":6252001,\"name\":\"United States\"}]'],\n",
       "      dtype='object', length=102)"
      ]
     },
     "execution_count": 9,
     "metadata": {},
     "output_type": "execute_result"
    }
   ],
   "source": [
    "authors_df.countries.value_counts().index"
   ]
  }
 ],
 "metadata": {
  "kernelspec": {
   "display_name": "Python 3",
   "language": "python",
   "name": "python3"
  },
  "language_info": {
   "codemirror_mode": {
    "name": "ipython",
    "version": 3
   },
   "file_extension": ".py",
   "mimetype": "text/x-python",
   "name": "python",
   "nbconvert_exporter": "python",
   "pygments_lexer": "ipython3",
   "version": "3.7.0"
  }
 },
 "nbformat": 4,
 "nbformat_minor": 2
}
